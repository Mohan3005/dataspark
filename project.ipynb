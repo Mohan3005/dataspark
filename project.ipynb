{
 "cells": [
  {
   "cell_type": "code",
   "execution_count": 1,
   "metadata": {},
   "outputs": [
    {
     "name": "stdout",
     "output_type": "stream",
     "text": [
      "Defaulting to user installation because normal site-packages is not writeable\n",
      "Requirement already satisfied: pandas in c:\\users\\mr\\appdata\\roaming\\python\\python311\\site-packages (2.2.2)\n",
      "Requirement already satisfied: numpy>=1.23.2 in c:\\users\\mr\\appdata\\roaming\\python\\python311\\site-packages (from pandas) (2.0.0)\n",
      "Requirement already satisfied: python-dateutil>=2.8.2 in c:\\users\\mr\\appdata\\roaming\\python\\python311\\site-packages (from pandas) (2.9.0.post0)\n",
      "Requirement already satisfied: pytz>=2020.1 in c:\\users\\mr\\appdata\\roaming\\python\\python311\\site-packages (from pandas) (2024.1)\n",
      "Requirement already satisfied: tzdata>=2022.7 in c:\\users\\mr\\appdata\\roaming\\python\\python311\\site-packages (from pandas) (2024.1)\n",
      "Requirement already satisfied: six>=1.5 in c:\\users\\mr\\appdata\\roaming\\python\\python311\\site-packages (from python-dateutil>=2.8.2->pandas) (1.16.0)\n"
     ]
    },
    {
     "name": "stderr",
     "output_type": "stream",
     "text": [
      "\n",
      "[notice] A new release of pip is available: 24.1.2 -> 24.2\n",
      "[notice] To update, run: python.exe -m pip install --upgrade pip\n"
     ]
    }
   ],
   "source": [
    "!pip install pandas\n"
   ]
  },
  {
   "cell_type": "code",
   "execution_count": 2,
   "metadata": {},
   "outputs": [
    {
     "name": "stdout",
     "output_type": "stream",
     "text": [
      "Defaulting to user installation because normal site-packages is not writeable\n",
      "Requirement already satisfied: openpyxl in c:\\users\\mr\\appdata\\roaming\\python\\python311\\site-packages (3.1.5)\n",
      "Requirement already satisfied: et-xmlfile in c:\\users\\mr\\appdata\\roaming\\python\\python311\\site-packages (from openpyxl) (1.1.0)\n"
     ]
    },
    {
     "name": "stderr",
     "output_type": "stream",
     "text": [
      "\n",
      "[notice] A new release of pip is available: 24.1.2 -> 24.2\n",
      "[notice] To update, run: python.exe -m pip install --upgrade pip\n"
     ]
    }
   ],
   "source": [
    "!pip install openpyxl"
   ]
  },
  {
   "cell_type": "markdown",
   "metadata": {},
   "source": [
    "## 1) Import and Concatenate\n",
    "### a) Import and Convert to Structured Format"
   ]
  },
  {
   "cell_type": "code",
   "execution_count": 3,
   "metadata": {},
   "outputs": [],
   "source": [
    "import pandas as pd\n",
    "\n",
    "# Load datasets\n",
    "df_bangalore = pd.read_excel('bangalore_cars.xlsx')\n",
    "df_chennai = pd.read_excel('chennai_cars.xlsx')\n",
    "df_delhi = pd.read_excel('delhi_cars.xlsx')\n",
    "df_hyderabad = pd.read_excel('hyderabad_cars.xlsx')\n",
    "df_jaipur = pd.read_excel('jaipur_cars.xlsx')\n",
    "df_kolkata = pd.read_excel('kolkata_cars.xlsx')"
   ]
  },
  {
   "cell_type": "markdown",
   "metadata": {},
   "source": [
    "### iii) Add 'City' Column\n",
    "#### Add a column to each DataFrame to identify the city."
   ]
  },
  {
   "cell_type": "code",
   "execution_count": 4,
   "metadata": {},
   "outputs": [],
   "source": [
    "# # Example of cleaning a specific column (e.g., removing ' kms' from 'new_car_detail' column)\n",
    "# for df in [df_bangalore, df_chennai, df_delhi, df_hyderabad, df_jaipur, df_kolkata]:\n",
    "#     df['new_car_detail'] = df['new_car_detail'].str.replace(' km', '').astype(float)\n",
    "\n",
    "\n",
    "# Add 'City' column to each DataFrame\n",
    "df_bangalore['City'] = 'Bangalore'\n",
    "df_chennai['City'] = 'Chennai'\n",
    "df_delhi['City'] = 'delhi'\n",
    "df_hyderabad['City'] = 'hyderabad'\n",
    "df_jaipur['City'] = 'Jaipur'\n",
    "df_kolkata['City'] = 'Kolkata'\n",
    "\n",
    "\n"
   ]
  },
  {
   "cell_type": "markdown",
   "metadata": {},
   "source": [
    "### iv) Concatenate All Datasets\n",
    "#### Concatenate all DataFrames into a single DataFrame"
   ]
  },
  {
   "cell_type": "code",
   "execution_count": 5,
   "metadata": {},
   "outputs": [],
   "source": [
    "# Concatenate all datasets\n",
    "df_all_cities = pd.concat([df_bangalore,df_chennai,df_delhi,df_hyderabad,df_jaipur,df_kolkata], ignore_index=True)\n"
   ]
  },
  {
   "cell_type": "markdown",
   "metadata": {},
   "source": [
    "### b) Handling Missing Values\n",
    "#### i) Identify Missing Values"
   ]
  },
  {
   "cell_type": "code",
   "execution_count": 6,
   "metadata": {},
   "outputs": [
    {
     "name": "stdout",
     "output_type": "stream",
     "text": [
      "new_car_detail      0\n",
      "new_car_overview    0\n",
      "new_car_feature     0\n",
      "new_car_specs       0\n",
      "car_links           0\n",
      "City                0\n",
      "dtype: int64\n"
     ]
    }
   ],
   "source": [
    "# Check for missing values\n",
    "missing_values = df_all_cities.isnull().sum()\n",
    "print(missing_values)\n"
   ]
  },
  {
   "cell_type": "markdown",
   "metadata": {},
   "source": [
    "#### ii) Fill or Remove Missing Values"
   ]
  },
  {
   "cell_type": "code",
   "execution_count": 7,
   "metadata": {},
   "outputs": [
    {
     "name": "stderr",
     "output_type": "stream",
     "text": [
      "C:\\Users\\MR\\AppData\\Local\\Temp\\ipykernel_8180\\1329297212.py:9: FutureWarning: A value is trying to be set on a copy of a DataFrame or Series through chained assignment using an inplace method.\n",
      "The behavior will change in pandas 3.0. This inplace method will never work because the intermediate object on which we are setting values always behaves as a copy.\n",
      "\n",
      "For example, when doing 'df[col].method(value, inplace=True)', try using 'df.method({col: value}, inplace=True)' or df[col] = df[col].method(value) instead, to perform the operation inplace on the original object.\n",
      "\n",
      "\n",
      "  df_all_cities[col].fillna(df_all_cities[col].mode()[0], inplace=True)\n"
     ]
    }
   ],
   "source": [
    "# For numerical columns, fill with mean or median\n",
    "numerical_cols = df_all_cities.select_dtypes(include=['int64', 'float64']).columns\n",
    "for col in numerical_cols:\n",
    "    df_all_cities[col].fillna(df_all_cities[col].mean(), inplace=True)\n",
    "\n",
    "# For categorical columns, fill with mode or 'Missing'\n",
    "categorical_cols = df_all_cities.select_dtypes(include=['object']).columns\n",
    "for col in categorical_cols:\n",
    "    df_all_cities[col].fillna(df_all_cities[col].mode()[0], inplace=True)\n"
   ]
  },
  {
   "cell_type": "markdown",
   "metadata": {},
   "source": [
    "### c) Standardizing Data Formats\n",
    "#### i) Check Data Types and Convert if Necessary"
   ]
  },
  {
   "cell_type": "code",
   "execution_count": 8,
   "metadata": {},
   "outputs": [],
   "source": [
    "# # Save the cleaned data to CSV\n",
    "# df_bangalore.to_csv('bangalore_cars_cleaned.csv', index=False)\n",
    "# df_chennai.to_csv('chennai_cars_cleaned.csv', index=False)\n",
    "# df_delhi.to_csv('delhi_cars_cleaned.csv', index=False)\n",
    "# df_hyderabad.to_csv('hyderabad_cars_cleaned.csv', index=False)\n",
    "# df_jaipur.to_csv('jaipur_cars_cleaned.csv', index=False)\n",
    "# df_kolkata.to_csv('kolkata_cars_cleaned.csv', index=False)\n"
   ]
  },
  {
   "cell_type": "code",
   "execution_count": 9,
   "metadata": {},
   "outputs": [],
   "source": [
    "import ast\n",
    "def extract_km(detail):\n",
    "    # Convert the string to a dictionary\n",
    "    detail_dict = ast.literal_eval(detail)\n",
    "    # Extract 'km' value and remove commas\n",
    "    km_value = detail_dict['km'].replace(',', '')\n",
    "    # Convert 'km' to integer\n",
    "    return int(km_value)\n"
   ]
  },
  {
   "cell_type": "code",
   "execution_count": 10,
   "metadata": {},
   "outputs": [],
   "source": [
    "# Apply the function to each DataFrame\n",
    "df_bangalore['km'] = df_bangalore['new_car_detail'].apply(extract_km)\n",
    "df_chennai['km'] = df_chennai['new_car_detail'].apply(extract_km)\n",
    "df_delhi['km'] = df_delhi['new_car_detail'].apply(extract_km)\n",
    "df_hyderabad['km'] = df_hyderabad['new_car_detail'].apply(extract_km)\n",
    "df_jaipur['km'] = df_jaipur['new_car_detail'].apply(extract_km)\n",
    "df_kolkata['km'] = df_kolkata['new_car_detail'].apply(extract_km)\n"
   ]
  },
  {
   "cell_type": "code",
   "execution_count": 11,
   "metadata": {},
   "outputs": [
    {
     "name": "stdout",
     "output_type": "stream",
     "text": [
      "                                      new_car_detail      km\n",
      "0  {'it': 0, 'ft': 'Petrol', 'bt': 'Hatchback', '...  120000\n",
      "1  {'it': 0, 'ft': 'Petrol', 'bt': 'SUV', 'km': '...   32706\n",
      "2  {'it': 0, 'ft': 'Petrol', 'bt': 'Hatchback', '...   11949\n",
      "3  {'it': 0, 'ft': 'Petrol', 'bt': 'Sedan', 'km':...   17794\n",
      "4  {'it': 0, 'ft': 'Diesel', 'bt': 'SUV', 'km': '...   60000\n",
      "                                      new_car_detail     km\n",
      "0  {'it': 0, 'ft': 'Petrol', 'bt': 'SUV', 'km': '...  20000\n",
      "1  {'it': 0, 'ft': 'Petrol', 'bt': 'Minivans', 'k...  20687\n",
      "2  {'it': 0, 'ft': 'Petrol', 'bt': 'SUV', 'km': '...  30000\n",
      "3  {'it': 0, 'ft': 'Petrol', 'bt': 'Hatchback', '...  59247\n",
      "4  {'it': 0, 'ft': 'Petrol', 'bt': 'Hatchback', '...  50000\n",
      "                                      new_car_detail     km\n",
      "0  {'it': 0, 'ft': 'Diesel', 'bt': 'SUV', 'km': '...  10000\n",
      "1  {'it': 0, 'ft': 'Petrol', 'bt': 'SUV', 'km': '...  57437\n",
      "2  {'it': 0, 'ft': 'Petrol', 'bt': 'SUV', 'km': '...   8000\n",
      "3  {'it': 0, 'ft': 'Petrol', 'bt': 'Hatchback', '...  28151\n",
      "4  {'it': 0, 'ft': 'Petrol', 'bt': 'SUV', 'km': '...  60000\n",
      "                                      new_car_detail     km\n",
      "0  {'it': 0, 'ft': 'Petrol', 'bt': 'Hatchback', '...  20000\n",
      "1  {'it': 0, 'ft': 'Petrol', 'bt': 'Hatchback', '...  85582\n",
      "2  {'it': 0, 'ft': 'Petrol', 'bt': 'SUV', 'km': '...  10000\n",
      "3  {'it': 0, 'ft': 'Petrol', 'bt': 'Hatchback', '...  50750\n",
      "4  {'it': 0, 'ft': 'Petrol', 'bt': 'SUV', 'km': '...  10000\n",
      "                                      new_car_detail      km\n",
      "0  {'it': 0, 'ft': 'Diesel', 'bt': 'Hatchback', '...  120000\n",
      "1  {'it': 0, 'ft': 'Petrol', 'bt': 'Hatchback', '...   66951\n",
      "2  {'it': 0, 'ft': 'Petrol', 'bt': 'Hatchback', '...   80000\n",
      "3  {'it': 0, 'ft': 'Petrol', 'bt': 'Hatchback', '...   44392\n",
      "4  {'it': 0, 'ft': 'Petrol', 'bt': 'Hatchback', '...   40000\n",
      "                                      new_car_detail     km\n",
      "0  {'it': 0, 'ft': 'Petrol', 'bt': 'Sedan', 'km':...  70000\n",
      "1  {'it': 0, 'ft': 'Petrol', 'bt': 'Hatchback', '...  23981\n",
      "2  {'it': 0, 'ft': 'Petrol', 'bt': 'SUV', 'km': '...   7100\n",
      "3  {'it': 0, 'ft': 'Petrol', 'bt': 'Hatchback', '...  71574\n",
      "4  {'it': 0, 'ft': 'Diesel', 'bt': 'SUV', 'km': '...  50000\n"
     ]
    }
   ],
   "source": [
    "#After processing, it's a good idea to check the first few rows to ensure the km values have been extracted correctly.\n",
    "\n",
    "print(df_bangalore[['new_car_detail', 'km']].head())\n",
    "print(df_chennai[['new_car_detail', 'km']].head())\n",
    "print(df_delhi[['new_car_detail', 'km']].head())\n",
    "print(df_hyderabad[['new_car_detail', 'km']].head())\n",
    "print(df_jaipur[['new_car_detail', 'km']].head())\n",
    "print(df_kolkata[['new_car_detail', 'km']].head())\n"
   ]
  },
  {
   "cell_type": "markdown",
   "metadata": {},
   "source": [
    "### d) Encoding Categorical Variables\n",
    "#### i and ii) Apply Encoding Techniques\n",
    "##### Encode categorical variables."
   ]
  },
  {
   "cell_type": "code",
   "execution_count": 12,
   "metadata": {},
   "outputs": [
    {
     "name": "stdout",
     "output_type": "stream",
     "text": [
      "Defaulting to user installation because normal site-packages is not writeable\n",
      "Requirement already satisfied: scikit-learn in c:\\users\\mr\\appdata\\roaming\\python\\python311\\site-packages (1.5.1)\n",
      "Requirement already satisfied: numpy>=1.19.5 in c:\\users\\mr\\appdata\\roaming\\python\\python311\\site-packages (from scikit-learn) (2.0.0)\n",
      "Requirement already satisfied: scipy>=1.6.0 in c:\\users\\mr\\appdata\\roaming\\python\\python311\\site-packages (from scikit-learn) (1.14.0)\n",
      "Requirement already satisfied: joblib>=1.2.0 in c:\\users\\mr\\appdata\\roaming\\python\\python311\\site-packages (from scikit-learn) (1.4.2)\n",
      "Requirement already satisfied: threadpoolctl>=3.1.0 in c:\\users\\mr\\appdata\\roaming\\python\\python311\\site-packages (from scikit-learn) (3.5.0)\n",
      "Note: you may need to restart the kernel to use updated packages.\n"
     ]
    },
    {
     "name": "stderr",
     "output_type": "stream",
     "text": [
      "\n",
      "[notice] A new release of pip is available: 24.1.2 -> 24.2\n",
      "[notice] To update, run: python.exe -m pip install --upgrade pip\n"
     ]
    }
   ],
   "source": [
    "pip install scikit-learn"
   ]
  },
  {
   "cell_type": "code",
   "execution_count": 13,
   "metadata": {},
   "outputs": [],
   "source": [
    "# # One-hot encoding for nominal variables\n",
    "# all_cities = pd.get_dummies(df_all_cities, columns=['fuel_type', 'transmission'], drop_first=True)\n",
    "\n",
    "# # Label encoding for ordinal variables if needed\n",
    "# from sklearn.preprocessing import LabelEncoder\n",
    "# label_encoder = LabelEncoder()\n",
    "# all_cities['some_ordinal_column'] = label_encoder.fit_transform(all_cities['some_ordinal_column'])\n",
    "\n",
    "import ast\n",
    "\n",
    "def extract_features(detail):\n",
    "    detail_dict = ast.literal_eval(detail)\n",
    "    return detail_dict.get('ft', ''), detail_dict.get('transmission', '')\n",
    "\n",
    "df_all_cities[['fuel_type', 'transmission']] = df_all_cities['new_car_detail'].apply(lambda x: pd.Series(extract_features(x)))\n",
    "\n",
    "# Now you can perform one-hot encoding\n",
    "all_cities = pd.get_dummies(df_all_cities, columns=['fuel_type', 'transmission'], drop_first=True)\n",
    "\n"
   ]
  },
  {
   "cell_type": "markdown",
   "metadata": {},
   "source": [
    "### e) Normalizing Numerical Features\n",
    "#### i) Scale Numerical Features\n",
    "##### Apply scaling to numerical features."
   ]
  },
  {
   "cell_type": "code",
   "execution_count": 14,
   "metadata": {},
   "outputs": [
    {
     "name": "stdout",
     "output_type": "stream",
     "text": [
      "Series([], dtype: float64)\n"
     ]
    }
   ],
   "source": [
    "# Convert columns to numeric, forcing errors to NaN\n",
    "for col in numerical_cols:\n",
    "    df_all_cities[col] = pd.to_numeric(df_all_cities[col], errors='coerce')\n",
    "\n",
    "# Check for missing values\n",
    "print(df_all_cities[numerical_cols].isnull().sum())\n",
    "\n",
    "# Fill or drop missing values\n",
    "df_all_cities[numerical_cols] = df_all_cities[numerical_cols].fillna(df_all_cities[numerical_cols].mean())\n"
   ]
  },
  {
   "cell_type": "code",
   "execution_count": 15,
   "metadata": {},
   "outputs": [
    {
     "name": "stdout",
     "output_type": "stream",
     "text": [
      "Data types of all columns:\n",
      "new_car_detail      object\n",
      "new_car_overview    object\n",
      "new_car_feature     object\n",
      "new_car_specs       object\n",
      "car_links           object\n",
      "City                object\n",
      "fuel_type           object\n",
      "transmission        object\n",
      "dtype: object\n"
     ]
    }
   ],
   "source": [
    "# Print data types of all columns\n",
    "print(\"Data types of all columns:\")\n",
    "print(df_all_cities.dtypes)\n"
   ]
  },
  {
   "cell_type": "code",
   "execution_count": 16,
   "metadata": {},
   "outputs": [
    {
     "name": "stdout",
     "output_type": "stream",
     "text": [
      "Column: new_car_detail, Type: object\n",
      "Column: new_car_overview, Type: object\n",
      "Column: new_car_feature, Type: object\n",
      "Column: new_car_specs, Type: object\n",
      "Column: car_links, Type: object\n",
      "Column: City, Type: object\n",
      "Column: fuel_type, Type: object\n",
      "Column: transmission, Type: object\n"
     ]
    }
   ],
   "source": [
    "# List all columns and their types\n",
    "for col in df_all_cities.columns:\n",
    "    print(f\"Column: {col}, Type: {df_all_cities[col].dtype}\")\n"
   ]
  },
  {
   "cell_type": "code",
   "execution_count": 17,
   "metadata": {},
   "outputs": [
    {
     "name": "stdout",
     "output_type": "stream",
     "text": [
      "Numerical columns after conversion:\n",
      "Index(['new_car_detail', 'new_car_overview', 'new_car_feature',\n",
      "       'new_car_specs', 'car_links', 'City', 'fuel_type', 'transmission'],\n",
      "      dtype='object')\n"
     ]
    }
   ],
   "source": [
    "# Attempt to convert all columns to numeric and handle non-numeric values\n",
    "for col in df_all_cities.columns:\n",
    "    df_all_cities[col] = pd.to_numeric(df_all_cities[col], errors='coerce')\n",
    "\n",
    "# Recheck numerical columns\n",
    "numerical_cols = df_all_cities.select_dtypes(include=['int64', 'float64']).columns\n",
    "print(\"Numerical columns after conversion:\")\n",
    "print(numerical_cols)\n"
   ]
  },
  {
   "cell_type": "code",
   "execution_count": 18,
   "metadata": {},
   "outputs": [
    {
     "name": "stdout",
     "output_type": "stream",
     "text": [
      "Defaulting to user installation because normal site-packages is not writeable\n",
      "Requirement already satisfied: scikit-learn in c:\\users\\mr\\appdata\\roaming\\python\\python311\\site-packages (1.5.1)\n",
      "Requirement already satisfied: numpy>=1.19.5 in c:\\users\\mr\\appdata\\roaming\\python\\python311\\site-packages (from scikit-learn) (2.0.0)\n",
      "Requirement already satisfied: scipy>=1.6.0 in c:\\users\\mr\\appdata\\roaming\\python\\python311\\site-packages (from scikit-learn) (1.14.0)\n",
      "Requirement already satisfied: joblib>=1.2.0 in c:\\users\\mr\\appdata\\roaming\\python\\python311\\site-packages (from scikit-learn) (1.4.2)\n",
      "Requirement already satisfied: threadpoolctl>=3.1.0 in c:\\users\\mr\\appdata\\roaming\\python\\python311\\site-packages (from scikit-learn) (3.5.0)\n"
     ]
    },
    {
     "name": "stderr",
     "output_type": "stream",
     "text": [
      "\n",
      "[notice] A new release of pip is available: 24.1.2 -> 24.2\n",
      "[notice] To update, run: python.exe -m pip install --upgrade pip\n"
     ]
    }
   ],
   "source": [
    "!pip install scikit-learn"
   ]
  },
  {
   "cell_type": "code",
   "execution_count": 19,
   "metadata": {},
   "outputs": [
    {
     "name": "stdout",
     "output_type": "stream",
     "text": [
      "Column names in DataFrame:\n",
      "Index(['price', 'km', 'year'], dtype='object')\n",
      "Cleaned DataFrame:\n",
      "      price        km  year\n",
      "0  100000.0  120000.0  2015\n",
      "1  200000.0   30000.0  2016\n",
      "2  300000.0   50000.0  2017\n",
      "Numerical columns identified:\n",
      "Index(['price', 'km', 'year'], dtype='object')\n",
      "Scaling applied successfully.\n",
      "   price        km  year\n",
      "0    0.0  1.000000   0.0\n",
      "1    0.5  0.000000   0.5\n",
      "2    1.0  0.222222   1.0\n"
     ]
    }
   ],
   "source": [
    "import pandas as pd\n",
    "from sklearn.preprocessing import MinMaxScaler\n",
    "\n",
    "# Sample DataFrame including 'price'\n",
    "data = {\n",
    "    'price': ['₹ 1,00,000', '₹ 2,00,000', '₹ 3,00,000'],  # Added 'price' column\n",
    "    'km': ['1,20,000', '30,000', '50,000'],\n",
    "    'year': ['2015', '2016', '2017']\n",
    "}\n",
    "df_all_cities = pd.DataFrame(data)\n",
    "\n",
    "# Print column names to verify\n",
    "print(\"Column names in DataFrame:\")\n",
    "print(df_all_cities.columns)\n",
    "\n",
    "# Clean and convert 'price' column\n",
    "if 'price' in df_all_cities.columns:\n",
    "    df_all_cities['price'] = df_all_cities['price'].replace({'₹ ': '', ',': ''}, regex=True).astype(float)\n",
    "\n",
    "# Clean and convert 'km' column\n",
    "df_all_cities['km'] = df_all_cities['km'].str.replace(',', '').astype(float)\n",
    "df_all_cities['year'] = pd.to_numeric(df_all_cities['year'], errors='coerce')\n",
    "\n",
    "# Print the cleaned DataFrame\n",
    "print(\"Cleaned DataFrame:\")\n",
    "print(df_all_cities)\n",
    "\n",
    "# Identify numerical columns\n",
    "numerical_cols = df_all_cities.select_dtypes(include=['int64', 'float64']).columns\n",
    "print(\"Numerical columns identified:\")\n",
    "print(numerical_cols)\n",
    "\n",
    "# Apply Min-Max Scaling\n",
    "scaler = MinMaxScaler()\n",
    "if len(numerical_cols) > 0:\n",
    "    df_all_cities[numerical_cols] = scaler.fit_transform(df_all_cities[numerical_cols])\n",
    "    print(\"Scaling applied successfully.\")\n",
    "    print(df_all_cities.head())\n",
    "else:\n",
    "    print(\"No numerical columns to scale.\")\n"
   ]
  },
  {
   "cell_type": "markdown",
   "metadata": {},
   "source": [
    "### f) Removing Outliers\n",
    "####  Identify and Remove/Capping Outliers\n",
    "##### Use the IQR method to identify and remove outliers."
   ]
  },
  {
   "cell_type": "code",
   "execution_count": 20,
   "metadata": {},
   "outputs": [
    {
     "name": "stdout",
     "output_type": "stream",
     "text": [
      "Shape after removing outliers: (3, 3)\n"
     ]
    }
   ],
   "source": [
    "def remove_outliers(df, column):\n",
    "    Q1 = df[column].quantile(0.25)\n",
    "    Q3 = df[column].quantile(0.75)\n",
    "    IQR = Q3 - Q1\n",
    "    lower_bound = Q1 - 1.5 * IQR\n",
    "    upper_bound = Q3 + 1.5 * IQR\n",
    "    return df[(df[column] >= lower_bound) & (df[column] <= upper_bound)]\n",
    "\n",
    "# Apply to relevant columns\n",
    "df_all_cities = remove_outliers(df_all_cities, 'km')\n",
    "# Repeat for other relevant columns\n",
    "\n",
    "print(f\"Shape after removing outliers: {df_all_cities.shape}\")"
   ]
  },
  {
   "cell_type": "markdown",
   "metadata": {},
   "source": [
    "### 2) Exploratory Data Analysis (EDA)\n",
    "#### a) Descriptive Statistics"
   ]
  },
  {
   "cell_type": "code",
   "execution_count": 21,
   "metadata": {},
   "outputs": [
    {
     "name": "stdout",
     "output_type": "stream",
     "text": [
      "Cleaned DataFrame:\n",
      "      price        km  year\n",
      "0  100000.0  120000.0  2015\n",
      "1  200000.0   30000.0  2016\n",
      "2  300000.0   50000.0  2017\n",
      "Summary statistics:\n",
      "          price             km    year\n",
      "count       3.0       3.000000     3.0\n",
      "mean   200000.0   66666.666667  2016.0\n",
      "std    100000.0   47258.156263     1.0\n",
      "min    100000.0   30000.000000  2015.0\n",
      "25%    150000.0   40000.000000  2015.5\n",
      "50%    200000.0   50000.000000  2016.0\n",
      "75%    250000.0   85000.000000  2016.5\n",
      "max    300000.0  120000.000000  2017.0\n",
      "Mean Price: 200000.0\n",
      "Median Price: 200000.0\n",
      "Mode Price: 100000.0\n",
      "Standard Deviation of Price: 100000.0\n"
     ]
    }
   ],
   "source": [
    "import pandas as pd\n",
    "\n",
    "# Sample DataFrame for demonstration (including 'price')\n",
    "data = {\n",
    "    'price': ['₹ 1,00,000', '₹ 2,00,000', '₹ 3,00,000'],\n",
    "    'km': ['1,20,000', '30,000', '50,000'],\n",
    "    'year': ['2015', '2016', '2017']\n",
    "}\n",
    "df_all_cities = pd.DataFrame(data)\n",
    "\n",
    "# Clean and convert 'price' column\n",
    "df_all_cities['price'] = df_all_cities['price'].replace({'₹ ': '', ',': ''}, regex=True).astype(float)\n",
    "\n",
    "# Clean and convert other columns\n",
    "df_all_cities['km'] = df_all_cities['km'].str.replace(',', '').astype(float)\n",
    "df_all_cities['year'] = pd.to_numeric(df_all_cities['year'], errors='coerce')\n",
    "\n",
    "# Print the cleaned DataFrame\n",
    "print(\"Cleaned DataFrame:\")\n",
    "print(df_all_cities)\n",
    "\n",
    "# Calculate summary statistics\n",
    "print(\"Summary statistics:\")\n",
    "print(df_all_cities.describe(include='all'))\n",
    "\n",
    "# For specific statistics like mean, median, mode, standard deviation\n",
    "mean_price = df_all_cities['price'].mean()\n",
    "median_price = df_all_cities['price'].median()\n",
    "mode_price = df_all_cities['price'].mode()[0]\n",
    "std_price = df_all_cities['price'].std()\n",
    "\n",
    "print(f\"Mean Price: {mean_price}\")\n",
    "print(f\"Median Price: {median_price}\")\n",
    "print(f\"Mode Price: {mode_price}\")\n",
    "print(f\"Standard Deviation of Price: {std_price}\")\n"
   ]
  },
  {
   "cell_type": "markdown",
   "metadata": {},
   "source": [
    "### 2 (b) Data Visualization\n"
   ]
  },
  {
   "cell_type": "code",
   "execution_count": 25,
   "metadata": {},
   "outputs": [
    {
     "name": "stdout",
     "output_type": "stream",
     "text": [
      "Defaulting to user installation because normal site-packages is not writeable\n",
      "Requirement already satisfied: matplotlib in c:\\users\\mr\\appdata\\roaming\\python\\python311\\site-packages (3.9.2)\n",
      "Requirement already satisfied: contourpy>=1.0.1 in c:\\users\\mr\\appdata\\roaming\\python\\python311\\site-packages (from matplotlib) (1.2.1)\n",
      "Requirement already satisfied: cycler>=0.10 in c:\\users\\mr\\appdata\\roaming\\python\\python311\\site-packages (from matplotlib) (0.12.1)\n",
      "Requirement already satisfied: fonttools>=4.22.0 in c:\\users\\mr\\appdata\\roaming\\python\\python311\\site-packages (from matplotlib) (4.53.1)\n",
      "Requirement already satisfied: kiwisolver>=1.3.1 in c:\\users\\mr\\appdata\\roaming\\python\\python311\\site-packages (from matplotlib) (1.4.5)\n",
      "Requirement already satisfied: numpy>=1.23 in c:\\users\\mr\\appdata\\roaming\\python\\python311\\site-packages (from matplotlib) (2.0.0)\n",
      "Requirement already satisfied: packaging>=20.0 in c:\\users\\mr\\appdata\\roaming\\python\\python311\\site-packages (from matplotlib) (24.1)\n",
      "Requirement already satisfied: pillow>=8 in c:\\users\\mr\\appdata\\roaming\\python\\python311\\site-packages (from matplotlib) (10.4.0)\n",
      "Requirement already satisfied: pyparsing>=2.3.1 in c:\\users\\mr\\appdata\\roaming\\python\\python311\\site-packages (from matplotlib) (3.1.2)\n",
      "Requirement already satisfied: python-dateutil>=2.7 in c:\\users\\mr\\appdata\\roaming\\python\\python311\\site-packages (from matplotlib) (2.9.0.post0)\n",
      "Requirement already satisfied: six>=1.5 in c:\\users\\mr\\appdata\\roaming\\python\\python311\\site-packages (from python-dateutil>=2.7->matplotlib) (1.16.0)\n"
     ]
    },
    {
     "name": "stderr",
     "output_type": "stream",
     "text": [
      "\n",
      "[notice] A new release of pip is available: 24.1.2 -> 24.2\n",
      "[notice] To update, run: python.exe -m pip install --upgrade pip\n"
     ]
    },
    {
     "name": "stdout",
     "output_type": "stream",
     "text": [
      "Defaulting to user installation because normal site-packages is not writeable\n",
      "Collecting seaborn\n",
      "  Downloading seaborn-0.13.2-py3-none-any.whl.metadata (5.4 kB)\n",
      "Requirement already satisfied: numpy!=1.24.0,>=1.20 in c:\\users\\mr\\appdata\\roaming\\python\\python311\\site-packages (from seaborn) (2.0.0)\n",
      "Requirement already satisfied: pandas>=1.2 in c:\\users\\mr\\appdata\\roaming\\python\\python311\\site-packages (from seaborn) (2.2.2)\n",
      "Requirement already satisfied: matplotlib!=3.6.1,>=3.4 in c:\\users\\mr\\appdata\\roaming\\python\\python311\\site-packages (from seaborn) (3.9.2)\n",
      "Requirement already satisfied: contourpy>=1.0.1 in c:\\users\\mr\\appdata\\roaming\\python\\python311\\site-packages (from matplotlib!=3.6.1,>=3.4->seaborn) (1.2.1)\n",
      "Requirement already satisfied: cycler>=0.10 in c:\\users\\mr\\appdata\\roaming\\python\\python311\\site-packages (from matplotlib!=3.6.1,>=3.4->seaborn) (0.12.1)\n",
      "Requirement already satisfied: fonttools>=4.22.0 in c:\\users\\mr\\appdata\\roaming\\python\\python311\\site-packages (from matplotlib!=3.6.1,>=3.4->seaborn) (4.53.1)\n",
      "Requirement already satisfied: kiwisolver>=1.3.1 in c:\\users\\mr\\appdata\\roaming\\python\\python311\\site-packages (from matplotlib!=3.6.1,>=3.4->seaborn) (1.4.5)\n",
      "Requirement already satisfied: packaging>=20.0 in c:\\users\\mr\\appdata\\roaming\\python\\python311\\site-packages (from matplotlib!=3.6.1,>=3.4->seaborn) (24.1)\n",
      "Requirement already satisfied: pillow>=8 in c:\\users\\mr\\appdata\\roaming\\python\\python311\\site-packages (from matplotlib!=3.6.1,>=3.4->seaborn) (10.4.0)\n",
      "Requirement already satisfied: pyparsing>=2.3.1 in c:\\users\\mr\\appdata\\roaming\\python\\python311\\site-packages (from matplotlib!=3.6.1,>=3.4->seaborn) (3.1.2)\n",
      "Requirement already satisfied: python-dateutil>=2.7 in c:\\users\\mr\\appdata\\roaming\\python\\python311\\site-packages (from matplotlib!=3.6.1,>=3.4->seaborn) (2.9.0.post0)\n",
      "Requirement already satisfied: pytz>=2020.1 in c:\\users\\mr\\appdata\\roaming\\python\\python311\\site-packages (from pandas>=1.2->seaborn) (2024.1)\n",
      "Requirement already satisfied: tzdata>=2022.7 in c:\\users\\mr\\appdata\\roaming\\python\\python311\\site-packages (from pandas>=1.2->seaborn) (2024.1)\n",
      "Requirement already satisfied: six>=1.5 in c:\\users\\mr\\appdata\\roaming\\python\\python311\\site-packages (from python-dateutil>=2.7->matplotlib!=3.6.1,>=3.4->seaborn) (1.16.0)\n",
      "Downloading seaborn-0.13.2-py3-none-any.whl (294 kB)\n",
      "   ---------------------------------------- 0.0/294.9 kB ? eta -:--:--\n",
      "   -------------------------- ------------- 194.6/294.9 kB 3.9 MB/s eta 0:00:01\n",
      "   ---------------------------------------- 294.9/294.9 kB 4.5 MB/s eta 0:00:00\n",
      "Installing collected packages: seaborn\n",
      "Successfully installed seaborn-0.13.2\n"
     ]
    },
    {
     "name": "stderr",
     "output_type": "stream",
     "text": [
      "\n",
      "[notice] A new release of pip is available: 24.1.2 -> 24.2\n",
      "[notice] To update, run: python.exe -m pip install --upgrade pip\n"
     ]
    }
   ],
   "source": [
    "!pip install matplotlib\n",
    "!pip install seaborn"
   ]
  },
  {
   "cell_type": "code",
   "execution_count": 26,
   "metadata": {},
   "outputs": [
    {
     "data": {
      "image/png": "[encoded data removed]",
      "text/plain": [
       "<Figure size 1400x700 with 5 Axes>"
      ]
     },
     "metadata": {},
     "output_type": "display_data"
    }
   ],
   "source": [
    "import matplotlib.pyplot as plt\n",
    "import seaborn as sns\n",
    "\n",
    "# Create visualizations\n",
    "plt.figure(figsize=(14, 7))\n",
    "\n",
    "# Histogram of price\n",
    "plt.subplot(2, 2, 1)\n",
    "sns.histplot(df_all_cities['price'], kde=True)\n",
    "plt.title('Price Distribution')\n",
    "# plt.show()\n",
    "# Box plot of price\n",
    "plt.subplot(2, 2, 2)\n",
    "sns.boxplot(x=df_all_cities['price'])\n",
    "plt.title('Price Box Plot')\n",
    "\n",
    "# Scatter plot of km vs. price\n",
    "plt.subplot(2, 2, 3)\n",
    "sns.scatterplot(x=df_all_cities['km'], y=df_all_cities['price'])\n",
    "plt.title('KM vs. Price')\n",
    "\n",
    "# Correlation heatmap\n",
    "plt.subplot(2, 2, 4)\n",
    "corr = df_all_cities.corr()\n",
    "sns.heatmap(corr, annot=True, cmap='coolwarm', vmin=-1, vmax=1)\n",
    "plt.title('Correlation Heatmap')\n",
    "\n",
    "plt.tight_layout()\n",
    "plt.show()\n"
   ]
  },
  {
   "cell_type": "markdown",
   "metadata": {},
   "source": [
    "### c) Feature Selection:"
   ]
  },
  {
   "cell_type": "code",
   "execution_count": 27,
   "metadata": {},
   "outputs": [
    {
     "name": "stdout",
     "output_type": "stream",
     "text": [
      "Correlation Matrix:\n",
      "          price        km      year\n",
      "price  1.000000 -0.740613  1.000000\n",
      "km    -0.740613  1.000000 -0.740613\n",
      "year   1.000000 -0.740613  1.000000\n",
      "Feature: km, Importance: 0.44476744186046513\n",
      "Feature: year, Importance: 0.5552325581395349\n"
     ]
    }
   ],
   "source": [
    "# Correlation analysis\n",
    "correlation = df_all_cities.corr()\n",
    "print(\"Correlation Matrix:\")\n",
    "print(correlation)\n",
    "\n",
    "# Feature importance using a model (e.g., Random Forest)\n",
    "from sklearn.ensemble import RandomForestRegressor\n",
    "\n",
    "# Assume X and y are defined\n",
    "X = df_all_cities[['km', 'year']]\n",
    "y = df_all_cities['price']\n",
    "\n",
    "model = RandomForestRegressor()\n",
    "model.fit(X, y)\n",
    "importances = model.feature_importances_\n",
    "\n",
    "# Display feature importances\n",
    "for feature, importance in zip(X.columns, importances):\n",
    "    print(f\"Feature: {feature}, Importance: {importance}\")\n"
   ]
  },
  {
   "cell_type": "markdown",
   "metadata": {},
   "source": [
    "### 3) Model Development\n",
    "#### a) Train-Test Split:"
   ]
  },
  {
   "cell_type": "code",
   "execution_count": 28,
   "metadata": {},
   "outputs": [],
   "source": [
    "from sklearn.model_selection import train_test_split\n",
    "\n",
    "# Split the data\n",
    "X_train, X_test, y_train, y_test = train_test_split(X, y, test_size=0.2, random_state=42)\n"
   ]
  },
  {
   "cell_type": "code",
   "execution_count": 29,
   "metadata": {},
   "outputs": [],
   "source": [
    "from sklearn.linear_model import LinearRegression\n",
    "from sklearn.ensemble import RandomForestRegressor\n",
    "from sklearn.ensemble import GradientBoostingRegressor\n",
    "\n",
    "# Instantiate models\n",
    "models = {\n",
    "    'Linear Regression': LinearRegression(),\n",
    "    'Random Forest': RandomForestRegressor(),\n",
    "    'Gradient Boosting': GradientBoostingRegressor()\n",
    "}\n"
   ]
  },
  {
   "cell_type": "code",
   "execution_count": 30,
   "metadata": {},
   "outputs": [
    {
     "name": "stdout",
     "output_type": "stream",
     "text": [
      "Linear Regression trained.\n",
      "Random Forest trained.\n",
      "Gradient Boosting trained.\n"
     ]
    }
   ],
   "source": [
    "# Train models\n",
    "for name, model in models.items():\n",
    "    model.fit(X_train, y_train)\n",
    "    print(f\"{name} trained.\")\n"
   ]
  },
  {
   "cell_type": "code",
   "execution_count": 31,
   "metadata": {},
   "outputs": [
    {
     "name": "stderr",
     "output_type": "stream",
     "text": [
      "C:\\Users\\MR\\AppData\\Roaming\\Python\\Python311\\site-packages\\sklearn\\metrics\\_regression.py:1211: UndefinedMetricWarning: R^2 score is not well-defined with less than two samples.\n",
      "  warnings.warn(msg, UndefinedMetricWarning)\n",
      "C:\\Users\\MR\\AppData\\Roaming\\Python\\Python311\\site-packages\\sklearn\\metrics\\_regression.py:1211: UndefinedMetricWarning: R^2 score is not well-defined with less than two samples.\n",
      "  warnings.warn(msg, UndefinedMetricWarning)\n",
      "C:\\Users\\MR\\AppData\\Roaming\\Python\\Python311\\site-packages\\sklearn\\metrics\\_regression.py:1211: UndefinedMetricWarning: R^2 score is not well-defined with less than two samples.\n",
      "  warnings.warn(msg, UndefinedMetricWarning)\n",
      "C:\\Users\\MR\\AppData\\Roaming\\Python\\Python311\\site-packages\\sklearn\\metrics\\_regression.py:1211: UndefinedMetricWarning: R^2 score is not well-defined with less than two samples.\n",
      "  warnings.warn(msg, UndefinedMetricWarning)\n",
      "C:\\Users\\MR\\AppData\\Roaming\\Python\\Python311\\site-packages\\sklearn\\metrics\\_regression.py:1211: UndefinedMetricWarning: R^2 score is not well-defined with less than two samples.\n",
      "  warnings.warn(msg, UndefinedMetricWarning)\n",
      "C:\\Users\\MR\\AppData\\Roaming\\Python\\Python311\\site-packages\\sklearn\\metrics\\_regression.py:1211: UndefinedMetricWarning: R^2 score is not well-defined with less than two samples.\n",
      "  warnings.warn(msg, UndefinedMetricWarning)\n",
      "C:\\Users\\MR\\AppData\\Roaming\\Python\\Python311\\site-packages\\sklearn\\metrics\\_regression.py:1211: UndefinedMetricWarning: R^2 score is not well-defined with less than two samples.\n",
      "  warnings.warn(msg, UndefinedMetricWarning)\n",
      "C:\\Users\\MR\\AppData\\Roaming\\Python\\Python311\\site-packages\\sklearn\\metrics\\_regression.py:1211: UndefinedMetricWarning: R^2 score is not well-defined with less than two samples.\n",
      "  warnings.warn(msg, UndefinedMetricWarning)\n",
      "C:\\Users\\MR\\AppData\\Roaming\\Python\\Python311\\site-packages\\sklearn\\metrics\\_regression.py:1211: UndefinedMetricWarning: R^2 score is not well-defined with less than two samples.\n",
      "  warnings.warn(msg, UndefinedMetricWarning)\n",
      "C:\\Users\\MR\\AppData\\Roaming\\Python\\Python311\\site-packages\\sklearn\\metrics\\_regression.py:1211: UndefinedMetricWarning: R^2 score is not well-defined with less than two samples.\n",
      "  warnings.warn(msg, UndefinedMetricWarning)\n",
      "C:\\Users\\MR\\AppData\\Roaming\\Python\\Python311\\site-packages\\sklearn\\metrics\\_regression.py:1211: UndefinedMetricWarning: R^2 score is not well-defined with less than two samples.\n",
      "  warnings.warn(msg, UndefinedMetricWarning)\n",
      "C:\\Users\\MR\\AppData\\Roaming\\Python\\Python311\\site-packages\\sklearn\\metrics\\_regression.py:1211: UndefinedMetricWarning: R^2 score is not well-defined with less than two samples.\n",
      "  warnings.warn(msg, UndefinedMetricWarning)\n",
      "C:\\Users\\MR\\AppData\\Roaming\\Python\\Python311\\site-packages\\sklearn\\metrics\\_regression.py:1211: UndefinedMetricWarning: R^2 score is not well-defined with less than two samples.\n",
      "  warnings.warn(msg, UndefinedMetricWarning)\n",
      "C:\\Users\\MR\\AppData\\Roaming\\Python\\Python311\\site-packages\\sklearn\\metrics\\_regression.py:1211: UndefinedMetricWarning: R^2 score is not well-defined with less than two samples.\n",
      "  warnings.warn(msg, UndefinedMetricWarning)\n",
      "C:\\Users\\MR\\AppData\\Roaming\\Python\\Python311\\site-packages\\sklearn\\metrics\\_regression.py:1211: UndefinedMetricWarning: R^2 score is not well-defined with less than two samples.\n",
      "  warnings.warn(msg, UndefinedMetricWarning)\n",
      "C:\\Users\\MR\\AppData\\Roaming\\Python\\Python311\\site-packages\\sklearn\\metrics\\_regression.py:1211: UndefinedMetricWarning: R^2 score is not well-defined with less than two samples.\n",
      "  warnings.warn(msg, UndefinedMetricWarning)\n"
     ]
    },
    {
     "name": "stdout",
     "output_type": "stream",
     "text": [
      "Best parameters: {'max_depth': 10, 'n_estimators': 50}\n"
     ]
    },
    {
     "name": "stderr",
     "output_type": "stream",
     "text": [
      "C:\\Users\\MR\\AppData\\Roaming\\Python\\Python311\\site-packages\\sklearn\\metrics\\_regression.py:1211: UndefinedMetricWarning: R^2 score is not well-defined with less than two samples.\n",
      "  warnings.warn(msg, UndefinedMetricWarning)\n",
      "C:\\Users\\MR\\AppData\\Roaming\\Python\\Python311\\site-packages\\sklearn\\metrics\\_regression.py:1211: UndefinedMetricWarning: R^2 score is not well-defined with less than two samples.\n",
      "  warnings.warn(msg, UndefinedMetricWarning)\n",
      "C:\\Users\\MR\\AppData\\Roaming\\Python\\Python311\\site-packages\\sklearn\\model_selection\\_search.py:1102: UserWarning: One or more of the test scores are non-finite: [nan nan nan nan nan nan nan nan nan]\n",
      "  warnings.warn(\n"
     ]
    }
   ],
   "source": [
    "from sklearn.model_selection import GridSearchCV\n",
    "\n",
    "# Example for Random Forest\n",
    "param_grid = {\n",
    "    'n_estimators': [50, 100, 200],\n",
    "    'max_depth': [10, 20, 30]\n",
    "}\n",
    "grid_search = GridSearchCV(estimator=RandomForestRegressor(), param_grid=param_grid, cv=2)\n",
    "grid_search.fit(X_train, y_train)\n",
    "\n",
    "print(f\"Best parameters: {grid_search.best_params_}\")\n"
   ]
  },
  {
   "cell_type": "markdown",
   "metadata": {},
   "source": [
    "### 4) Model Evaluation\n",
    "#### a) Performance Metrics:"
   ]
  },
  {
   "cell_type": "code",
   "execution_count": 32,
   "metadata": {},
   "outputs": [
    {
     "name": "stdout",
     "output_type": "stream",
     "text": [
      "\n",
      "Linear Regression Evaluation:\n",
      "Mean Absolute Error: 549999.9986250004\n",
      "Mean Squared Error: 302499998487.50037\n",
      "R-squared: nan\n",
      "\n",
      "Random Forest Evaluation:\n",
      "Mean Absolute Error: 151000.0\n",
      "Mean Squared Error: 22801000000.0\n",
      "R-squared: nan\n",
      "\n",
      "Gradient Boosting Evaluation:\n",
      "Mean Absolute Error: 145136.30031287053\n",
      "Mean Squared Error: 21064545668.507744\n",
      "R-squared: nan\n"
     ]
    },
    {
     "name": "stderr",
     "output_type": "stream",
     "text": [
      "C:\\Users\\MR\\AppData\\Roaming\\Python\\Python311\\site-packages\\sklearn\\metrics\\_regression.py:1211: UndefinedMetricWarning: R^2 score is not well-defined with less than two samples.\n",
      "  warnings.warn(msg, UndefinedMetricWarning)\n",
      "C:\\Users\\MR\\AppData\\Roaming\\Python\\Python311\\site-packages\\sklearn\\metrics\\_regression.py:1211: UndefinedMetricWarning: R^2 score is not well-defined with less than two samples.\n",
      "  warnings.warn(msg, UndefinedMetricWarning)\n",
      "C:\\Users\\MR\\AppData\\Roaming\\Python\\Python311\\site-packages\\sklearn\\metrics\\_regression.py:1211: UndefinedMetricWarning: R^2 score is not well-defined with less than two samples.\n",
      "  warnings.warn(msg, UndefinedMetricWarning)\n"
     ]
    }
   ],
   "source": [
    "from sklearn.metrics import mean_absolute_error, mean_squared_error, r2_score\n",
    "\n",
    "# Evaluate models\n",
    "for name, model in models.items():\n",
    "    y_pred = model.predict(X_test)\n",
    "    print(f\"\\n{name} Evaluation:\")\n",
    "    print(f\"Mean Absolute Error: {mean_absolute_error(y_test, y_pred)}\")\n",
    "    print(f\"Mean Squared Error: {mean_squared_error(y_test, y_pred)}\")\n",
    "    print(f\"R-squared: {r2_score(y_test, y_pred)}\")\n"
   ]
  },
  {
   "cell_type": "markdown",
   "metadata": {},
   "source": [
    "##### b) Model Comparison:\n",
    "###### You already have model performance metrics from the above step\n",
    "###### Compare models based on these metrics to select the best performing one\n"
   ]
  },
  {
   "cell_type": "markdown",
   "metadata": {},
   "source": [
    "### 5) Optimization\n",
    "#### a) Feature Engineering:"
   ]
  },
  {
   "cell_type": "code",
   "execution_count": 33,
   "metadata": {},
   "outputs": [],
   "source": [
    "# Example: Adding new features or modifying existing ones\n",
    "df_all_cities['age'] = 2024 - df_all_cities['year']  # Assuming current year is 2024\n",
    "\n",
    "# Re-run feature selection and model training with new features\n",
    "X = df_all_cities[['km', 'year', 'age']]\n"
   ]
  },
  {
   "cell_type": "markdown",
   "metadata": {},
   "source": [
    "#### b) Regularization:"
   ]
  },
  {
   "cell_type": "code",
   "execution_count": 34,
   "metadata": {},
   "outputs": [
    {
     "name": "stdout",
     "output_type": "stream",
     "text": [
      "Lasso Coefficients: [5. 0.]\n",
      "Ridge Coefficients: [4.99999998e+00 2.50000003e-04]\n"
     ]
    }
   ],
   "source": [
    "from sklearn.linear_model import Lasso, Ridge\n",
    "\n",
    "# Lasso and Ridge regression\n",
    "lasso = Lasso(alpha=0.1)\n",
    "ridge = Ridge(alpha=0.1)\n",
    "\n",
    "lasso.fit(X_train, y_train)\n",
    "ridge.fit(X_train, y_train)\n",
    "\n",
    "print(\"Lasso Coefficients:\", lasso.coef_)\n",
    "print(\"Ridge Coefficients:\", ridge.coef_)\n"
   ]
  },
  {
   "cell_type": "markdown",
   "metadata": {},
   "source": [
    "### 6) Deployment\n",
    "#### a) Streamlit Application:"
   ]
  },
  {
   "cell_type": "code",
   "execution_count": 35,
   "metadata": {},
   "outputs": [
    {
     "name": "stdout",
     "output_type": "stream",
     "text": [
      "Defaulting to user installation because normal site-packages is not writeable\n",
      "Requirement already satisfied: altair in c:\\users\\mr\\appdata\\roaming\\python\\python311\\site-packages (5.4.0)\n",
      "Requirement already satisfied: jinja2 in c:\\users\\mr\\appdata\\roaming\\python\\python311\\site-packages (from altair) (3.1.4)\n",
      "Requirement already satisfied: jsonschema>=3.0 in c:\\users\\mr\\appdata\\roaming\\python\\python311\\site-packages (from altair) (4.23.0)\n",
      "Requirement already satisfied: narwhals>=1.1.0 in c:\\users\\mr\\appdata\\roaming\\python\\python311\\site-packages (from altair) (1.4.2)\n",
      "Requirement already satisfied: packaging in c:\\users\\mr\\appdata\\roaming\\python\\python311\\site-packages (from altair) (24.1)\n",
      "Requirement already satisfied: typing-extensions>=4.10.0 in c:\\users\\mr\\appdata\\roaming\\python\\python311\\site-packages (from altair) (4.12.2)\n",
      "Requirement already satisfied: attrs>=22.2.0 in c:\\users\\mr\\appdata\\roaming\\python\\python311\\site-packages (from jsonschema>=3.0->altair) (23.2.0)\n",
      "Requirement already satisfied: jsonschema-specifications>=2023.03.6 in c:\\users\\mr\\appdata\\roaming\\python\\python311\\site-packages (from jsonschema>=3.0->altair) (2023.12.1)\n",
      "Requirement already satisfied: referencing>=0.28.4 in c:\\users\\mr\\appdata\\roaming\\python\\python311\\site-packages (from jsonschema>=3.0->altair) (0.35.1)\n",
      "Requirement already satisfied: rpds-py>=0.7.1 in c:\\users\\mr\\appdata\\roaming\\python\\python311\\site-packages (from jsonschema>=3.0->altair) (0.19.0)\n",
      "Requirement already satisfied: MarkupSafe>=2.0 in c:\\users\\mr\\appdata\\roaming\\python\\python311\\site-packages (from jinja2->altair) (2.1.5)\n"
     ]
    },
    {
     "name": "stderr",
     "output_type": "stream",
     "text": [
      "\n",
      "[notice] A new release of pip is available: 24.1.2 -> 24.2\n",
      "[notice] To update, run: python.exe -m pip install --upgrade pip\n"
     ]
    },
    {
     "name": "stdout",
     "output_type": "stream",
     "text": [
      "Defaulting to user installation because normal site-packages is not writeable\n",
      "Collecting vega_datasets\n",
      "  Downloading vega_datasets-0.9.0-py3-none-any.whl.metadata (5.5 kB)\n",
      "Requirement already satisfied: pandas in c:\\users\\mr\\appdata\\roaming\\python\\python311\\site-packages (from vega_datasets) (2.2.2)\n",
      "Requirement already satisfied: numpy>=1.23.2 in c:\\users\\mr\\appdata\\roaming\\python\\python311\\site-packages (from pandas->vega_datasets) (2.0.0)\n",
      "Requirement already satisfied: python-dateutil>=2.8.2 in c:\\users\\mr\\appdata\\roaming\\python\\python311\\site-packages (from pandas->vega_datasets) (2.9.0.post0)\n",
      "Requirement already satisfied: pytz>=2020.1 in c:\\users\\mr\\appdata\\roaming\\python\\python311\\site-packages (from pandas->vega_datasets) (2024.1)\n",
      "Requirement already satisfied: tzdata>=2022.7 in c:\\users\\mr\\appdata\\roaming\\python\\python311\\site-packages (from pandas->vega_datasets) (2024.1)\n",
      "Requirement already satisfied: six>=1.5 in c:\\users\\mr\\appdata\\roaming\\python\\python311\\site-packages (from python-dateutil>=2.8.2->pandas->vega_datasets) (1.16.0)\n",
      "Downloading vega_datasets-0.9.0-py3-none-any.whl (210 kB)\n",
      "   ---------------------------------------- 0.0/210.8 kB ? eta -:--:--\n",
      "   --------------------------- ------------ 143.4/210.8 kB 2.8 MB/s eta 0:00:01\n",
      "   ---------------------------------------- 210.8/210.8 kB 3.2 MB/s eta 0:00:00\n",
      "Installing collected packages: vega_datasets\n",
      "Successfully installed vega_datasets-0.9.0\n"
     ]
    },
    {
     "name": "stderr",
     "output_type": "stream",
     "text": [
      "\n",
      "[notice] A new release of pip is available: 24.1.2 -> 24.2\n",
      "[notice] To update, run: python.exe -m pip install --upgrade pip\n"
     ]
    },
    {
     "name": "stdout",
     "output_type": "stream",
     "text": [
      "Defaulting to user installation because normal site-packages is not writeable\n",
      "Requirement already satisfied: streamlit in c:\\users\\mr\\appdata\\roaming\\python\\python311\\site-packages (1.37.1)\n",
      "Requirement already satisfied: altair<6,>=4.0 in c:\\users\\mr\\appdata\\roaming\\python\\python311\\site-packages (from streamlit) (5.4.0)\n",
      "Requirement already satisfied: blinker<2,>=1.0.0 in c:\\users\\mr\\appdata\\roaming\\python\\python311\\site-packages (from streamlit) (1.8.2)\n",
      "Requirement already satisfied: cachetools<6,>=4.0 in c:\\users\\mr\\appdata\\roaming\\python\\python311\\site-packages (from streamlit) (5.4.0)\n",
      "Requirement already satisfied: click<9,>=7.0 in c:\\users\\mr\\appdata\\roaming\\python\\python311\\site-packages (from streamlit) (8.1.7)\n",
      "Requirement already satisfied: numpy<3,>=1.20 in c:\\users\\mr\\appdata\\roaming\\python\\python311\\site-packages (from streamlit) (2.0.0)\n",
      "Requirement already satisfied: packaging<25,>=20 in c:\\users\\mr\\appdata\\roaming\\python\\python311\\site-packages (from streamlit) (24.1)\n",
      "Requirement already satisfied: pandas<3,>=1.3.0 in c:\\users\\mr\\appdata\\roaming\\python\\python311\\site-packages (from streamlit) (2.2.2)\n",
      "Requirement already satisfied: pillow<11,>=7.1.0 in c:\\users\\mr\\appdata\\roaming\\python\\python311\\site-packages (from streamlit) (10.4.0)\n",
      "Requirement already satisfied: protobuf<6,>=3.20 in c:\\users\\mr\\appdata\\roaming\\python\\python311\\site-packages (from streamlit) (5.27.2)\n",
      "Requirement already satisfied: pyarrow>=7.0 in c:\\users\\mr\\appdata\\roaming\\python\\python311\\site-packages (from streamlit) (17.0.0)\n",
      "Requirement already satisfied: requests<3,>=2.27 in c:\\users\\mr\\appdata\\roaming\\python\\python311\\site-packages (from streamlit) (2.32.3)\n",
      "Requirement already satisfied: rich<14,>=10.14.0 in c:\\users\\mr\\appdata\\roaming\\python\\python311\\site-packages (from streamlit) (13.7.1)\n",
      "Requirement already satisfied: tenacity<9,>=8.1.0 in c:\\users\\mr\\appdata\\roaming\\python\\python311\\site-packages (from streamlit) (8.5.0)\n",
      "Requirement already satisfied: toml<2,>=0.10.1 in c:\\users\\mr\\appdata\\roaming\\python\\python311\\site-packages (from streamlit) (0.10.2)\n",
      "Requirement already satisfied: typing-extensions<5,>=4.3.0 in c:\\users\\mr\\appdata\\roaming\\python\\python311\\site-packages (from streamlit) (4.12.2)\n",
      "Requirement already satisfied: gitpython!=3.1.19,<4,>=3.0.7 in c:\\users\\mr\\appdata\\roaming\\python\\python311\\site-packages (from streamlit) (3.1.43)\n",
      "Requirement already satisfied: pydeck<1,>=0.8.0b4 in c:\\users\\mr\\appdata\\roaming\\python\\python311\\site-packages (from streamlit) (0.9.1)\n",
      "Requirement already satisfied: tornado<7,>=6.0.3 in c:\\users\\mr\\appdata\\roaming\\python\\python311\\site-packages (from streamlit) (6.4.1)\n",
      "Requirement already satisfied: watchdog<5,>=2.1.5 in c:\\users\\mr\\appdata\\roaming\\python\\python311\\site-packages (from streamlit) (4.0.1)\n",
      "Requirement already satisfied: jinja2 in c:\\users\\mr\\appdata\\roaming\\python\\python311\\site-packages (from altair<6,>=4.0->streamlit) (3.1.4)\n",
      "Requirement already satisfied: jsonschema>=3.0 in c:\\users\\mr\\appdata\\roaming\\python\\python311\\site-packages (from altair<6,>=4.0->streamlit) (4.23.0)\n",
      "Requirement already satisfied: narwhals>=1.1.0 in c:\\users\\mr\\appdata\\roaming\\python\\python311\\site-packages (from altair<6,>=4.0->streamlit) (1.4.2)\n",
      "Requirement already satisfied: colorama in c:\\users\\mr\\appdata\\roaming\\python\\python311\\site-packages (from click<9,>=7.0->streamlit) (0.4.6)\n",
      "Requirement already satisfied: gitdb<5,>=4.0.1 in c:\\users\\mr\\appdata\\roaming\\python\\python311\\site-packages (from gitpython!=3.1.19,<4,>=3.0.7->streamlit) (4.0.11)\n",
      "Requirement already satisfied: python-dateutil>=2.8.2 in c:\\users\\mr\\appdata\\roaming\\python\\python311\\site-packages (from pandas<3,>=1.3.0->streamlit) (2.9.0.post0)\n",
      "Requirement already satisfied: pytz>=2020.1 in c:\\users\\mr\\appdata\\roaming\\python\\python311\\site-packages (from pandas<3,>=1.3.0->streamlit) (2024.1)\n",
      "Requirement already satisfied: tzdata>=2022.7 in c:\\users\\mr\\appdata\\roaming\\python\\python311\\site-packages (from pandas<3,>=1.3.0->streamlit) (2024.1)\n",
      "Requirement already satisfied: charset-normalizer<4,>=2 in c:\\users\\mr\\appdata\\roaming\\python\\python311\\site-packages (from requests<3,>=2.27->streamlit) (3.3.2)\n",
      "Requirement already satisfied: idna<4,>=2.5 in c:\\users\\mr\\appdata\\roaming\\python\\python311\\site-packages (from requests<3,>=2.27->streamlit) (3.7)\n",
      "Requirement already satisfied: urllib3<3,>=1.21.1 in c:\\users\\mr\\appdata\\roaming\\python\\python311\\site-packages (from requests<3,>=2.27->streamlit) (1.26.19)\n",
      "Requirement already satisfied: certifi>=2017.4.17 in c:\\users\\mr\\appdata\\roaming\\python\\python311\\site-packages (from requests<3,>=2.27->streamlit) (2024.7.4)\n",
      "Requirement already satisfied: markdown-it-py>=2.2.0 in c:\\users\\mr\\appdata\\roaming\\python\\python311\\site-packages (from rich<14,>=10.14.0->streamlit) (3.0.0)\n",
      "Requirement already satisfied: pygments<3.0.0,>=2.13.0 in c:\\users\\mr\\appdata\\roaming\\python\\python311\\site-packages (from rich<14,>=10.14.0->streamlit) (2.18.0)\n",
      "Requirement already satisfied: smmap<6,>=3.0.1 in c:\\users\\mr\\appdata\\roaming\\python\\python311\\site-packages (from gitdb<5,>=4.0.1->gitpython!=3.1.19,<4,>=3.0.7->streamlit) (5.0.1)\n",
      "Requirement already satisfied: MarkupSafe>=2.0 in c:\\users\\mr\\appdata\\roaming\\python\\python311\\site-packages (from jinja2->altair<6,>=4.0->streamlit) (2.1.5)\n",
      "Requirement already satisfied: attrs>=22.2.0 in c:\\users\\mr\\appdata\\roaming\\python\\python311\\site-packages (from jsonschema>=3.0->altair<6,>=4.0->streamlit) (23.2.0)\n",
      "Requirement already satisfied: jsonschema-specifications>=2023.03.6 in c:\\users\\mr\\appdata\\roaming\\python\\python311\\site-packages (from jsonschema>=3.0->altair<6,>=4.0->streamlit) (2023.12.1)\n",
      "Requirement already satisfied: referencing>=0.28.4 in c:\\users\\mr\\appdata\\roaming\\python\\python311\\site-packages (from jsonschema>=3.0->altair<6,>=4.0->streamlit) (0.35.1)\n",
      "Requirement already satisfied: rpds-py>=0.7.1 in c:\\users\\mr\\appdata\\roaming\\python\\python311\\site-packages (from jsonschema>=3.0->altair<6,>=4.0->streamlit) (0.19.0)\n",
      "Requirement already satisfied: mdurl~=0.1 in c:\\users\\mr\\appdata\\roaming\\python\\python311\\site-packages (from markdown-it-py>=2.2.0->rich<14,>=10.14.0->streamlit) (0.1.2)\n",
      "Requirement already satisfied: six>=1.5 in c:\\users\\mr\\appdata\\roaming\\python\\python311\\site-packages (from python-dateutil>=2.8.2->pandas<3,>=1.3.0->streamlit) (1.16.0)\n"
     ]
    },
    {
     "name": "stderr",
     "output_type": "stream",
     "text": [
      "\n",
      "[notice] A new release of pip is available: 24.1.2 -> 24.2\n",
      "[notice] To update, run: python.exe -m pip install --upgrade pip\n"
     ]
    }
   ],
   "source": [
    "!pip install altair\n",
    "!pip install vega_datasets\n",
    "!pip install streamlit\n"
   ]
  },
  {
   "cell_type": "code",
   "execution_count": 36,
   "metadata": {},
   "outputs": [
    {
     "name": "stdout",
     "output_type": "stream",
     "text": [
      "5.4.0\n"
     ]
    }
   ],
   "source": [
    "import altair as alt\n",
    "print(alt.__version__)\n"
   ]
  },
  {
   "cell_type": "code",
   "execution_count": 37,
   "metadata": {},
   "outputs": [
    {
     "name": "stdout",
     "output_type": "stream",
     "text": [
      "Defaulting to user installation because normal site-packages is not writeable\n",
      "Requirement already satisfied: altair in c:\\users\\mr\\appdata\\roaming\\python\\python311\\site-packages (5.4.0)\n",
      "Requirement already satisfied: vega_datasets in c:\\users\\mr\\appdata\\roaming\\python\\python311\\site-packages (0.9.0)\n",
      "Requirement already satisfied: jinja2 in c:\\users\\mr\\appdata\\roaming\\python\\python311\\site-packages (from altair) (3.1.4)\n",
      "Requirement already satisfied: jsonschema>=3.0 in c:\\users\\mr\\appdata\\roaming\\python\\python311\\site-packages (from altair) (4.23.0)\n",
      "Requirement already satisfied: narwhals>=1.1.0 in c:\\users\\mr\\appdata\\roaming\\python\\python311\\site-packages (from altair) (1.4.2)\n",
      "Requirement already satisfied: packaging in c:\\users\\mr\\appdata\\roaming\\python\\python311\\site-packages (from altair) (24.1)\n",
      "Requirement already satisfied: typing-extensions>=4.10.0 in c:\\users\\mr\\appdata\\roaming\\python\\python311\\site-packages (from altair) (4.12.2)\n",
      "Requirement already satisfied: pandas in c:\\users\\mr\\appdata\\roaming\\python\\python311\\site-packages (from vega_datasets) (2.2.2)\n",
      "Requirement already satisfied: attrs>=22.2.0 in c:\\users\\mr\\appdata\\roaming\\python\\python311\\site-packages (from jsonschema>=3.0->altair) (23.2.0)\n",
      "Requirement already satisfied: jsonschema-specifications>=2023.03.6 in c:\\users\\mr\\appdata\\roaming\\python\\python311\\site-packages (from jsonschema>=3.0->altair) (2023.12.1)\n",
      "Requirement already satisfied: referencing>=0.28.4 in c:\\users\\mr\\appdata\\roaming\\python\\python311\\site-packages (from jsonschema>=3.0->altair) (0.35.1)\n",
      "Requirement already satisfied: rpds-py>=0.7.1 in c:\\users\\mr\\appdata\\roaming\\python\\python311\\site-packages (from jsonschema>=3.0->altair) (0.19.0)\n",
      "Requirement already satisfied: MarkupSafe>=2.0 in c:\\users\\mr\\appdata\\roaming\\python\\python311\\site-packages (from jinja2->altair) (2.1.5)\n",
      "Requirement already satisfied: numpy>=1.23.2 in c:\\users\\mr\\appdata\\roaming\\python\\python311\\site-packages (from pandas->vega_datasets) (2.0.0)\n",
      "Requirement already satisfied: python-dateutil>=2.8.2 in c:\\users\\mr\\appdata\\roaming\\python\\python311\\site-packages (from pandas->vega_datasets) (2.9.0.post0)\n",
      "Requirement already satisfied: pytz>=2020.1 in c:\\users\\mr\\appdata\\roaming\\python\\python311\\site-packages (from pandas->vega_datasets) (2024.1)\n",
      "Requirement already satisfied: tzdata>=2022.7 in c:\\users\\mr\\appdata\\roaming\\python\\python311\\site-packages (from pandas->vega_datasets) (2024.1)\n",
      "Requirement already satisfied: six>=1.5 in c:\\users\\mr\\appdata\\roaming\\python\\python311\\site-packages (from python-dateutil>=2.8.2->pandas->vega_datasets) (1.16.0)\n"
     ]
    },
    {
     "name": "stderr",
     "output_type": "stream",
     "text": [
      "\n",
      "[notice] A new release of pip is available: 24.1.2 -> 24.2\n",
      "[notice] To update, run: python.exe -m pip install --upgrade pip\n"
     ]
    }
   ],
   "source": [
    "!pip install altair vega_datasets\n"
   ]
  },
  {
   "cell_type": "code",
   "execution_count": 45,
   "metadata": {},
   "outputs": [],
   "source": [
    "import streamlit as st\n",
    "import pandas as pd\n",
    "from sklearn.preprocessing import MinMaxScaler\n",
    "from sklearn.linear_model import LinearRegression\n",
    "\n",
    "# Dummy trained model and scaler for demonstration\n",
    "# Replace these with your actual trained model and scaler\n",
    "class DummyModel:\n",
    "    def predict(self, X):\n",
    "        return [10000 + 0.5 * X[0][0] + 0.3 * X[0][1] + 0.2 * X[0][2]]\n",
    "\n",
    "best_model = DummyModel()\n",
    "scaler = MinMaxScaler()\n",
    "\n",
    "# Sample data for fitting the scaler (replace with your actual data)\n",
    "sample_data = pd.DataFrame({\n",
    "    'km': [20000, 50000, 100000],\n",
    "    'year': [2015, 2016, 2017],\n",
    "    'age': [9, 8, 7]\n",
    "})\n",
    "scaler.fit(sample_data)\n",
    "\n",
    "# Streamlit app\n",
    "st.title('Car Price Prediction')\n",
    "\n",
    "# User inputs\n",
    "km = st.number_input('Enter KM:', min_value=0)\n",
    "year = st.number_input('Enter Year:', min_value=2000, max_value=2024)\n",
    "age = 2024 - year\n",
    "\n",
    "# Display user inputs\n",
    "st.write(f\"Input Features - KM: {km}, Year: {year}, Age: {age}\")\n",
    "\n",
    "# Prepare input features\n",
    "input_features = pd.DataFrame([[km, year, age]], columns=['km', 'year', 'age'])\n",
    "scaled_features = scaler.transform(input_features)\n",
    "\n",
    "# Predict button\n",
    "if st.button('Predict Price'):\n",
    "    predicted_price = best_model.predict(scaled_features)\n",
    "    st.write(f\"Predicted Price: ₹ {predicted_price[0]:,.2f}\")\n",
    "\n"
   ]
  },
  {
   "cell_type": "code",
   "execution_count": 44,
   "metadata": {},
   "outputs": [],
   "source": [
    "# Install Streamlit if not already installed\n",
    "# pip install streamlit\n",
    "\n",
    "# Create a Streamlit app (save as app.py)\n",
    "import streamlit as st\n",
    "\n",
    "st.title('Car Price Prediction')\n",
    "\n",
    "# User inputs\n",
    "km = st.number_input('Enter KM:', min_value=0)\n",
    "year = st.number_input('Enter Year:', min_value=2000, max_value=2024)\n",
    "age = 2024 - year\n",
    "\n",
    "# Predict button\n",
    "if st.button('Predict Price'):\n",
    "    input_features = [[km, year, age]]\n",
    "    predicted_price = best_model.predict(input_features)  # Replace best_model with your trained model\n",
    "    st.write(f\"Predicted Price: ₹ {predicted_price[0]:,.2f}\")\n"
   ]
  },
  {
   "cell_type": "code",
   "execution_count": 46,
   "metadata": {},
   "outputs": [
    {
     "name": "stdout",
     "output_type": "stream",
     "text": [
      "Writing car_price_predictor.py\n"
     ]
    }
   ],
   "source": [
    "%%writefile car_price_predictor.py\n",
    "\n",
    "import streamlit as st\n",
    "import pandas as pd\n",
    "import numpy as np\n",
    "from sklearn.ensemble import RandomForestRegressor\n",
    "from sklearn.preprocessing import StandardScaler\n",
    "\n",
    "# Load your trained model and scaler\n",
    "# For this example, I'll create dummy versions\n",
    "class DummyModel:\n",
    "    def predict(self, X):\n",
    "        return np.random.rand(len(X)) * 100000\n",
    "\n",
    "model = DummyModel()\n",
    "scaler = StandardScaler()\n",
    "\n",
    "st.title('Car Price Predictor')\n",
    "\n",
    "st.write(\"\"\"\n",
    "### Enter the details of the car to get a price prediction\n",
    "\"\"\")\n",
    "\n",
    "# User inputs\n",
    "km = st.number_input('Kilometers Driven', min_value=0, max_value=500000, value=50000)\n",
    "year = st.number_input('Year of Manufacture', min_value=1990, max_value=2023, value=2015)\n",
    "fuel_type = st.selectbox('Fuel Type', ['Petrol', 'Diesel', 'CNG'])\n",
    "transmission = st.selectbox('Transmission', ['Manual', 'Automatic'])\n",
    "\n",
    "# Create a dataframe from inputs\n",
    "input_data = pd.DataFrame({\n",
    "    'km': [km],\n",
    "    'year': [year],\n",
    "    'fuel_type': [fuel_type],\n",
    "    'transmission': [transmission]\n",
    "})\n",
    "\n",
    "# One-hot encode categorical variables\n",
    "input_data = pd.get_dummies(input_data, columns=['fuel_type', 'transmission'])\n",
    "\n",
    "# Ensure all columns from training are present\n",
    "expected_columns = ['km', 'year', 'fuel_type_Petrol', 'fuel_type_Diesel', 'fuel_type_CNG',\n",
    "                    'transmission_Manual', 'transmission_Automatic']\n",
    "for col in expected_columns:\n",
    "    if col not in input_data.columns:\n",
    "        input_data[col] = 0\n",
    "\n",
    "# Reorder columns to match training data\n",
    "input_data = input_data[expected_columns]\n",
    "\n",
    "if st.button('Predict Price'):\n",
    "    # Scale the input\n",
    "    # scaled_input = scaler.transform(input_data)\n",
    "    \n",
    "    # Make prediction\n",
    "    prediction = model.predict(input_data)\n",
    "    \n",
    "    st.success(f'The predicted price is ₹{prediction[0]:,.2f}')\n",
    "\n",
    "st.write(\"\"\"\n",
    "### Note:\n",
    "This is a demonstration. For accurate predictions, replace the dummy model with your trained model and use the actual scaler.\n",
    "\"\"\")"
   ]
  }
 ],
 "metadata": {
  "kernelspec": {
   "display_name": "Python 3",
   "language": "python",
   "name": "python3"
  },
  "language_info": {
   "codemirror_mode": {
    "name": "ipython",
    "version": 3
   },
   "file_extension": ".py",
   "mimetype": "text/x-python",
   "name": "python",
   "nbconvert_exporter": "python",
   "pygments_lexer": "ipython3",
   "version": "3.11.3"
  }
 },
 "nbformat": 4,
 "nbformat_minor": 2
}
